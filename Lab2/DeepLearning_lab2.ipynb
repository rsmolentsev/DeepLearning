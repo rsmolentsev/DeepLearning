{
  "nbformat": 4,
  "nbformat_minor": 0,
  "metadata": {
    "colab": {
      "provenance": [],
      "history_visible": true
    },
    "kernelspec": {
      "name": "python3",
      "display_name": "Python 3"
    },
    "language_info": {
      "name": "python"
    }
  },
  "cells": [
    {
      "cell_type": "code",
      "execution_count": 172,
      "metadata": {
        "id": "_U3bLZiTRdGl"
      },
      "outputs": [],
      "source": [
        "import pandas as pd\n",
        "import numpy as np\n",
        "from sklearn.preprocessing import MinMaxScaler\n",
        "from datetime import datetime\n",
        "\n",
        "\n",
        "df = pd.read_csv(\"/content/elon_musk_tweets.csv\")\n",
        "\n",
        "df['date'] = pd.to_datetime(df['date'])\n",
        "\n",
        "df = df.sort_values(by='date')\n",
        "\n",
        "scaler = MinMaxScaler(feature_range=(0, 1))\n",
        "df[['user_followers']] = scaler.fit_transform(\n",
        "    df[['user_followers']]\n",
        ")\n",
        "\n",
        "df.set_index(['date'], inplace=True)\n"
      ]
    },
    {
      "cell_type": "code",
      "source": [
        "non_numeric_columns = df.select_dtypes(exclude=[np.number]).columns\n",
        "print(\"Non-numeric columns:\", non_numeric_columns)\n",
        "print(df.dtypes)"
      ],
      "metadata": {
        "colab": {
          "base_uri": "https://localhost:8080/"
        },
        "id": "D8m--VRkSSX5",
        "outputId": "0088cc19-608c-4752-b02e-7d9ef313c3ed"
      },
      "execution_count": 173,
      "outputs": [
        {
          "output_type": "stream",
          "name": "stdout",
          "text": [
            "Non-numeric columns: Index(['user_name', 'user_location', 'user_description', 'user_created',\n",
            "       'user_verified', 'text', 'hashtags', 'source', 'is_retweet'],\n",
            "      dtype='object')\n",
            "id                    int64\n",
            "user_name            object\n",
            "user_location        object\n",
            "user_description     object\n",
            "user_created         object\n",
            "user_followers      float64\n",
            "user_friends          int64\n",
            "user_favourites       int64\n",
            "user_verified          bool\n",
            "text                 object\n",
            "hashtags             object\n",
            "source               object\n",
            "retweets              int64\n",
            "favorites             int64\n",
            "is_retweet             bool\n",
            "dtype: object\n"
          ]
        }
      ]
    },
    {
      "cell_type": "code",
      "source": [
        "df = df.drop(columns=non_numeric_columns)\n",
        "df = df.drop(columns='id')\n",
        "df = df.drop(columns='user_friends')\n",
        "df = df.drop(columns='user_favourites')\n",
        "df = df.drop(columns='retweets')\n",
        "df = df.drop(columns='favorites')"
      ],
      "metadata": {
        "id": "kcnuhamuSVpv"
      },
      "execution_count": 174,
      "outputs": []
    },
    {
      "cell_type": "code",
      "source": [
        "df = df.fillna(0)\n"
      ],
      "metadata": {
        "id": "NHxeAbt7SYvR"
      },
      "execution_count": 175,
      "outputs": []
    },
    {
      "cell_type": "code",
      "source": [
        "df = df.astype(float)"
      ],
      "metadata": {
        "id": "OTYeboHjSbCW"
      },
      "execution_count": 176,
      "outputs": []
    },
    {
      "cell_type": "code",
      "source": [
        "print(df.dtypes)"
      ],
      "metadata": {
        "colab": {
          "base_uri": "https://localhost:8080/"
        },
        "id": "2w5tGlLFveE2",
        "outputId": "d66bd7bc-8ae3-400a-cb44-6cba839451db"
      },
      "execution_count": 177,
      "outputs": [
        {
          "output_type": "stream",
          "name": "stdout",
          "text": [
            "user_followers    float64\n",
            "dtype: object\n"
          ]
        }
      ]
    },
    {
      "cell_type": "code",
      "source": [
        "data = df['user_followers'].values\n",
        "print(len(data))\n",
        "data = data.reshape(-1, 1)\n",
        "print(data)"
      ],
      "metadata": {
        "colab": {
          "base_uri": "https://localhost:8080/"
        },
        "id": "28hOb0xywmZb",
        "outputId": "2f0addfd-171c-4f8d-e580-e9c437796c03"
      },
      "execution_count": 178,
      "outputs": [
        {
          "output_type": "stream",
          "name": "stdout",
          "text": [
            "5904\n",
            "[[0.        ]\n",
            " [0.        ]\n",
            " [0.        ]\n",
            " ...\n",
            " [0.99999872]\n",
            " [0.99999872]\n",
            " [0.99999872]]\n"
          ]
        }
      ]
    },
    {
      "cell_type": "code",
      "source": [
        "import torch\n",
        "import torch.nn as nn\n",
        "from torch.utils.data import DataLoader, Dataset\n",
        "\n",
        "class TimeSeriesDataset(Dataset):\n",
        "    def __init__(self, data, sequence_length=500):\n",
        "        self.sequence_length = sequence_length\n",
        "        self.data = data.values\n",
        "\n",
        "    def __len__(self):\n",
        "        return len(self.data) - self.sequence_length\n",
        "\n",
        "    def __getitem__(self, idx):\n",
        "        # Используем numpy срезы\n",
        "        x = self.data[idx: idx + self.sequence_length, :]\n",
        "        y = self.data[idx + self.sequence_length, :]\n",
        "        return torch.FloatTensor(x), torch.FloatTensor(y)\n",
        "\n",
        "# Подготовка данных\n",
        "dataset = TimeSeriesDataset(df, sequence_length=500)\n",
        "dataloader = DataLoader(dataset, batch_size=32, shuffle=True)\n"
      ],
      "metadata": {
        "id": "Ml8_anTQR3A1"
      },
      "execution_count": 181,
      "outputs": []
    },
    {
      "cell_type": "code",
      "source": [
        "class BRITSModel(nn.Module):\n",
        "    def __init__(self, input_dim, hidden_dim, output_dim):\n",
        "        super(BRITSModel, self).__init__()\n",
        "        self.rnn = nn.LSTM(input_dim, hidden_dim, batch_first=True, bidirectional=True)\n",
        "        self.fc = nn.Linear(hidden_dim * 2, output_dim)  # Для двунаправленного LSTM\n",
        "\n",
        "    def forward(self, x):\n",
        "        h0 = torch.zeros(2, x.size(0), hidden_dim).to(x.device)  # Двунаправленный LSTM\n",
        "        c0 = torch.zeros(2, x.size(0), hidden_dim).to(x.device)\n",
        "\n",
        "        out, _ = self.rnn(x, (h0, c0))  # Пропускаем данные через LSTM\n",
        "        out = self.fc(out[:, -1, :])    # Используем последний выход для прогноза\n",
        "        return out\n"
      ],
      "metadata": {
        "id": "dSfcGt7GxHPH"
      },
      "execution_count": 182,
      "outputs": []
    },
    {
      "cell_type": "code",
      "source": [
        "\n",
        "sequence_length = 500  # Длина последовательности для обучения модели (например, количество временных шагов, которые модель будет учитывать)\n",
        "input_dim = 1  # Размерность входных данных (1, так как мы работаем с одномерными данными)\n",
        "hidden_dim = 64  # Размерность скрытого слоя модели (определяет количество нейронов в скрытых слоях)\n",
        "output_dim = input_dim  # Размерность выходных данных (та же, что и входных, т.к. мы прогнозируем те же данные)\n",
        "num_epochs = 10\n",
        "batch_size = 32\n",
        "learning_rate = 0.001  # Скорость обучения (определяет, насколько сильно обновляются веса при каждом шаге)\n",
        "\n",
        "dataset = TimeSeriesDataset(df, sequence_length)  # Создаем объект набора данных, где df - исходный DataFrame, а sequence_length - длина последовательности для входа в модель\n",
        "dataloader = DataLoader(dataset, batch_size=batch_size, shuffle=True)  # Создаем DataLoader, который будет подавать данные батчами, случайно перемешивая их\n",
        "\n",
        "model = BRITSModel(input_dim, hidden_dim, output_dim)\n",
        "criterion = nn.MSELoss() # Mean Square Error\n",
        "optimizer = torch.optim.Adam(model.parameters(), lr=learning_rate)\n",
        "\n",
        "model.train()\n",
        "for epoch in range(num_epochs):\n",
        "    for x_batch, y_batch in dataloader:\n",
        "        outputs = model(x_batch)\n",
        "        loss = criterion(outputs, y_batch)\n",
        "\n",
        "        optimizer.zero_grad()\n",
        "        loss.backward()\n",
        "        optimizer.step()\n",
        "\n",
        "    print(f\"Epoch [{epoch+1}/{num_epochs}], Loss: {loss.item():.4f}\")\n",
        "\n",
        "torch.save(model.state_dict(), 'brits_model.pth')"
      ],
      "metadata": {
        "colab": {
          "base_uri": "https://localhost:8080/"
        },
        "id": "Loj3EvAsxSe9",
        "outputId": "0ffeca73-c478-4757-9edb-2abf87304cc5"
      },
      "execution_count": 183,
      "outputs": [
        {
          "output_type": "stream",
          "name": "stdout",
          "text": [
            "Epoch [1/10], Loss: 0.0003\n",
            "Epoch [2/10], Loss: 0.0002\n",
            "Epoch [3/10], Loss: 0.0002\n",
            "Epoch [4/10], Loss: 0.0000\n",
            "Epoch [5/10], Loss: 0.0000\n",
            "Epoch [6/10], Loss: 0.0000\n",
            "Epoch [7/10], Loss: 0.0000\n",
            "Epoch [8/10], Loss: 0.0000\n",
            "Epoch [9/10], Loss: 0.0000\n",
            "Epoch [10/10], Loss: 0.0000\n"
          ]
        }
      ]
    },
    {
      "cell_type": "code",
      "source": [
        "import matplotlib.pyplot as plt\n",
        "import torch\n",
        "\n",
        "# Подгружаем обученную модель\n",
        "model = BRITSModel(input_dim, hidden_dim, output_dim)\n",
        "model.load_state_dict(torch.load('/content/brits_model.pth'))\n",
        "model.eval()  # Переводим модель в режим инференса (оценки)\n",
        "\n",
        "# Выбираем только одну метрику для прогнозирования - Retweet Count\n",
        "follower_count_data = df['user_followers'].values  # Данные только по метрике Retweet Count\n",
        "# Подготовим последние sequence_length данных для прогнозирования\n",
        "input_data = follower_count_data[-sequence_length:]  # Используем последние данные\n",
        "input_data = torch.FloatTensor(input_data).unsqueeze(0).unsqueeze(2)  # (1, sequence_length, 1)\n",
        "\n",
        "# Сделаем прогноз для следующих N шагов (например, для 10 шагов)\n",
        "trend_growth_factor = 1.0\n",
        "forecast_steps = 984\n",
        "predicted_values = []\n",
        "\n",
        "# Прогнозируем по одному шагу за раз\n",
        "for _ in range(forecast_steps):\n",
        "    with torch.no_grad():  # Нет необходимости в вычислении градиентов для прогноза\n",
        "        prediction = model(input_data)  # Прогнозируем следующий шаг\n",
        "        predicted_values.append(prediction.numpy().flatten()[0] * trend_growth_factor)  # Добавляем предсказанное значение в список\n",
        "\n",
        "    # Обновляем input_data для следующего шага\n",
        "    # Берем последние sequence_length - 1 значений и добавляем предсказанное значение\n",
        "    new_input = prediction.unsqueeze(0)  # Сделаем из предсказания тензор формы (1, 1, 1)\n",
        "    input_data = torch.cat([input_data[:, 1:, :], new_input], dim=1)  # Обновляем входные данные\n",
        "\n",
        "input_data_rescaled = scaler.inverse_transform(np.array(follower_count_data).reshape(-1, 1))\n",
        "predicted_values_rescaled = scaler.inverse_transform(np.array(predicted_values).reshape(-1, 1))\n",
        "print(len(input_data_rescaled))\n",
        "for value in predicted_values_rescaled[-100:]:\n",
        "  print(int(value))\n",
        "\n",
        "# Визуализация:\n",
        "plt.figure(figsize=(10, 6))\n",
        "\n",
        "# Исходные данные для последнего шага (Followers Count)\n",
        "plt.plot(range(len(input_data_rescaled)), input_data_rescaled, label='Actual', color='blue')\n",
        "\n",
        "# Прогнозируемые значения (следующие шаги)\n",
        "plt.plot(range(len(follower_count_data), len(follower_count_data) + forecast_steps), predicted_values_rescaled, label='Predicted', color='red')\n",
        "\n",
        "plt.xlabel('Time Step')\n",
        "plt.ylabel('Follower Count')\n",
        "plt.title('Прогнозирование Follower Count Илона Маска')\n",
        "\n",
        "plt.legend()\n",
        "\n",
        "plt.show()\n"
      ],
      "metadata": {
        "colab": {
          "base_uri": "https://localhost:8080/",
          "height": 1000
        },
        "id": "FCM2TDOxUeG1",
        "outputId": "126c28da-35ae-469e-8714-ec9aeebc79d3"
      },
      "execution_count": 200,
      "outputs": [
        {
          "output_type": "stream",
          "name": "stderr",
          "text": [
            "<ipython-input-200-8f06db3afebc>:6: FutureWarning: You are using `torch.load` with `weights_only=False` (the current default value), which uses the default pickle module implicitly. It is possible to construct malicious pickle data which will execute arbitrary code during unpickling (See https://github.com/pytorch/pytorch/blob/main/SECURITY.md#untrusted-models for more details). In a future release, the default value for `weights_only` will be flipped to `True`. This limits the functions that could be executed during unpickling. Arbitrary objects will no longer be allowed to be loaded via this mode unless they are explicitly allowlisted by the user via `torch.serialization.add_safe_globals`. We recommend you start setting `weights_only=True` for any use case where you don't have full control of the loaded file. Please open an issue on GitHub for any issues related to this experimental feature.\n",
            "  model.load_state_dict(torch.load('/content/brits_model.pth'))\n"
          ]
        },
        {
          "output_type": "stream",
          "name": "stdout",
          "text": [
            "5904\n",
            "145175827\n",
            "145175893\n",
            "145175963\n",
            "145176028\n",
            "145176098\n",
            "145176169\n",
            "145176234\n",
            "145176299\n",
            "145176369\n",
            "145176429\n",
            "145176500\n",
            "145176560\n",
            "145176625\n",
            "145176690\n",
            "145176756\n",
            "145176821\n",
            "145176881\n",
            "145176946\n",
            "145177006\n",
            "145177072\n",
            "145177132\n",
            "145177192\n",
            "145177252\n",
            "145177317\n",
            "145177373\n",
            "145177433\n",
            "145177498\n",
            "145177553\n",
            "145177613\n",
            "145177669\n",
            "145177729\n",
            "145177789\n",
            "145177844\n",
            "145177904\n",
            "145177965\n",
            "145178015\n",
            "145178075\n",
            "145178125\n",
            "145178185\n",
            "145178241\n",
            "145178296\n",
            "145178351\n",
            "145178406\n",
            "145178461\n",
            "145178511\n",
            "145178567\n",
            "145178617\n",
            "145178672\n",
            "145178727\n",
            "145178777\n",
            "145178828\n",
            "145178878\n",
            "145178928\n",
            "145178978\n",
            "145179028\n",
            "145179078\n",
            "145179134\n",
            "145179184\n",
            "145179234\n",
            "145179279\n",
            "145179329\n",
            "145179379\n",
            "145179430\n",
            "145179480\n",
            "145179525\n",
            "145179570\n",
            "145179620\n",
            "145179665\n",
            "145179710\n",
            "145179761\n",
            "145179801\n",
            "145179846\n",
            "145179891\n",
            "145179941\n",
            "145179986\n",
            "145180027\n",
            "145180072\n",
            "145180117\n",
            "145180162\n",
            "145180202\n",
            "145180247\n",
            "145180287\n",
            "145180333\n",
            "145180373\n",
            "145180423\n",
            "145180463\n",
            "145180503\n",
            "145180543\n",
            "145180583\n",
            "145180629\n",
            "145180669\n",
            "145180709\n",
            "145180749\n",
            "145180789\n",
            "145180829\n",
            "145180869\n",
            "145180905\n",
            "145180950\n",
            "145180985\n",
            "145181025\n"
          ]
        },
        {
          "output_type": "stream",
          "name": "stderr",
          "text": [
            "<ipython-input-200-8f06db3afebc>:35: DeprecationWarning: Conversion of an array with ndim > 0 to a scalar is deprecated, and will error in future. Ensure you extract a single element from your array before performing this operation. (Deprecated NumPy 1.25.)\n",
            "  print(int(value))\n"
          ]
        },
        {
          "output_type": "display_data",
          "data": {
            "text/plain": [
              "<Figure size 1000x600 with 1 Axes>"
            ],
            "image/png": "[encoded data removed]"
          },
          "metadata": {}
        }
      ]
    },
    {
      "cell_type": "markdown",
      "source": [
        "18 авг. 2023 г. — The average number of followers for all 153 million accounts"
      ],
      "metadata": {
        "id": "dZL4ApzlCx6u"
      }
    },
    {
      "cell_type": "markdown",
      "source": [
        "101240855 - старт, 143325985 - финиш, то есть примерно 42 миллиона подписчиков за год, учитывая внешние обстоятельства. Всего 5904 записи, то есть примерно 492 в месяц. Предсказание - прирост в 2 миллиона примерно за два месяца. Меньше ожидаемого, но на графике видны сильные падения, влияющие на итоговый результат. Ровной линии нет."
      ],
      "metadata": {
        "id": "zjKk7zQtEmUf"
      }
    },
    {
      "cell_type": "markdown",
      "source": [],
      "metadata": {
        "id": "PETcnYToCyxe"
      }
    }
  ]
}